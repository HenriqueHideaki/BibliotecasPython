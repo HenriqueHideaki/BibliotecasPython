{
  "nbformat": 4,
  "nbformat_minor": 0,
  "metadata": {
    "colab": {
      "provenance": [],
      "authorship_tag": "ABX9TyPdg+uU0woveSvskJFprLTo",
      "include_colab_link": true
    },
    "kernelspec": {
      "name": "python3",
      "display_name": "Python 3"
    },
    "language_info": {
      "name": "python"
    }
  },
  "cells": [
    {
      "cell_type": "markdown",
      "metadata": {
        "id": "view-in-github",
        "colab_type": "text"
      },
      "source": [
        "<a href=\"https://colab.research.google.com/github/HenriqueHideaki/BibliotecasPython/blob/main/Numpy.ipynb\" target=\"_parent\"><img src=\"https://colab.research.google.com/assets/colab-badge.svg\" alt=\"Open In Colab\"/></a>"
      ]
    },
    {
      "cell_type": "markdown",
      "source": [
        "# Arrays\n",
        "## [Numpy Documentantion Link](https://numpy.org/doc/1.23/user/basics.creation.html)"
      ],
      "metadata": {
        "id": "wXAwD3ITw9SU"
      }
    },
    {
      "cell_type": "code",
      "execution_count": null,
      "metadata": {
        "id": "xQjk9J9qqRn6"
      },
      "outputs": [],
      "source": [
        "import numpy as np"
      ]
    },
    {
      "cell_type": "markdown",
      "source": [
        "# np.array()"
      ],
      "metadata": {
        "id": "tbXs9rsYwpTy"
      }
    },
    {
      "cell_type": "code",
      "source": [
        "a = np.array([[1,2,3,4,5,6],[7,8,9,10,11]])\n",
        "print(a)"
      ],
      "metadata": {
        "colab": {
          "base_uri": "https://localhost:8080/"
        },
        "id": "iHnB-XourWb0",
        "outputId": "c42c651e-8351-4cc5-e2b3-1c43897be767"
      },
      "execution_count": null,
      "outputs": [
        {
          "output_type": "stream",
          "name": "stdout",
          "text": [
            "[list([1, 2, 3, 4, 5, 6]) list([7, 8, 9, 10, 11])]\n"
          ]
        },
        {
          "output_type": "stream",
          "name": "stderr",
          "text": [
            "<ipython-input-11-32d8b3fd2abe>:1: VisibleDeprecationWarning: Creating an ndarray from ragged nested sequences (which is a list-or-tuple of lists-or-tuples-or ndarrays with different lengths or shapes) is deprecated. If you meant to do this, you must specify 'dtype=object' when creating the ndarray.\n",
            "  a = np.array([[1,2,3,4,5,6],[7,8,9,10,11]])\n"
          ]
        }
      ]
    },
    {
      "cell_type": "markdown",
      "source": [
        "#np.zeros()"
      ],
      "metadata": {
        "id": "vrgV4HOxwsEi"
      }
    },
    {
      "cell_type": "code",
      "source": [
        "zero_array = np.zeros(shape = (5,3,6))\n",
        "zero_array  "
      ],
      "metadata": {
        "colab": {
          "base_uri": "https://localhost:8080/"
        },
        "id": "-8SbSEtUwraJ",
        "outputId": "2431dbe1-fcb4-4762-fdfc-1e4f46801acf"
      },
      "execution_count": null,
      "outputs": [
        {
          "output_type": "execute_result",
          "data": {
            "text/plain": [
              "array([[[0., 0., 0., 0., 0., 0.],\n",
              "        [0., 0., 0., 0., 0., 0.],\n",
              "        [0., 0., 0., 0., 0., 0.]],\n",
              "\n",
              "       [[0., 0., 0., 0., 0., 0.],\n",
              "        [0., 0., 0., 0., 0., 0.],\n",
              "        [0., 0., 0., 0., 0., 0.]],\n",
              "\n",
              "       [[0., 0., 0., 0., 0., 0.],\n",
              "        [0., 0., 0., 0., 0., 0.],\n",
              "        [0., 0., 0., 0., 0., 0.]],\n",
              "\n",
              "       [[0., 0., 0., 0., 0., 0.],\n",
              "        [0., 0., 0., 0., 0., 0.],\n",
              "        [0., 0., 0., 0., 0., 0.]],\n",
              "\n",
              "       [[0., 0., 0., 0., 0., 0.],\n",
              "        [0., 0., 0., 0., 0., 0.],\n",
              "        [0., 0., 0., 0., 0., 0.]]])"
            ]
          },
          "metadata": {},
          "execution_count": 13
        }
      ]
    },
    {
      "cell_type": "markdown",
      "source": [
        "#np.ones()"
      ],
      "metadata": {
        "id": "ljfHM7p6xdsu"
      }
    },
    {
      "cell_type": "code",
      "source": [
        "um_array = np.ones((3,2))\n",
        "um_array"
      ],
      "metadata": {
        "colab": {
          "base_uri": "https://localhost:8080/"
        },
        "id": "KztYpj0uxzo-",
        "outputId": "ba891f3e-2c09-49ac-b921-8b90777f57b6"
      },
      "execution_count": null,
      "outputs": [
        {
          "output_type": "execute_result",
          "data": {
            "text/plain": [
              "array([[1., 1.],\n",
              "       [1., 1.],\n",
              "       [1., 1.]])"
            ]
          },
          "metadata": {},
          "execution_count": 19
        }
      ]
    },
    {
      "cell_type": "markdown",
      "source": [
        "#np.empty()"
      ],
      "metadata": {
        "id": "1dI6Ar43yIEr"
      }
    },
    {
      "cell_type": "code",
      "source": [
        "vazio = np.empty((3,4))\n",
        "print(vazio)"
      ],
      "metadata": {
        "colab": {
          "base_uri": "https://localhost:8080/"
        },
        "id": "T10x_9hayHJL",
        "outputId": "8cf6f254-2a2f-4fe8-f00d-afb23c623e9b"
      },
      "execution_count": null,
      "outputs": [
        {
          "output_type": "stream",
          "name": "stdout",
          "text": [
            "[[1.78294300e-316 2.22809558e-312 6.79038654e-313 6.79038653e-313]\n",
            " [2.37663529e-312 2.14321575e-312 2.37663529e-312 2.56761491e-312]\n",
            " [1.08221785e-312 7.93287846e+165 1.64182472e-306 0.00000000e+000]]\n"
          ]
        }
      ]
    },
    {
      "cell_type": "markdown",
      "source": [
        "#np.arange()"
      ],
      "metadata": {
        "id": "uFsi3Uisyb22"
      }
    },
    {
      "cell_type": "code",
      "source": [
        "arr = np.arange(10,100,2)\n",
        "arr"
      ],
      "metadata": {
        "colab": {
          "base_uri": "https://localhost:8080/"
        },
        "id": "f5hUijBXybGE",
        "outputId": "80389733-a05c-45ca-ab76-f106b7f81d8d"
      },
      "execution_count": null,
      "outputs": [
        {
          "output_type": "execute_result",
          "data": {
            "text/plain": [
              "array([10, 12, 14, 16, 18, 20, 22, 24, 26, 28, 30, 32, 34, 36, 38, 40, 42,\n",
              "       44, 46, 48, 50, 52, 54, 56, 58, 60, 62, 64, 66, 68, 70, 72, 74, 76,\n",
              "       78, 80, 82, 84, 86, 88, 90, 92, 94, 96, 98])"
            ]
          },
          "metadata": {},
          "execution_count": 36
        }
      ]
    },
    {
      "cell_type": "markdown",
      "source": [
        "#np.linspace()"
      ],
      "metadata": {
        "id": "jXKBibk6y7vy"
      }
    },
    {
      "cell_type": "code",
      "source": [
        "array_linear = np.linspace(1,100,30,endpoint = False)\n",
        "array_linear"
      ],
      "metadata": {
        "colab": {
          "base_uri": "https://localhost:8080/"
        },
        "id": "hr9mq0T6y7KS",
        "outputId": "36b035d0-680f-45ee-d515-498e6641a90b"
      },
      "execution_count": null,
      "outputs": [
        {
          "output_type": "execute_result",
          "data": {
            "text/plain": [
              "array([ 1. ,  4.3,  7.6, 10.9, 14.2, 17.5, 20.8, 24.1, 27.4, 30.7, 34. ,\n",
              "       37.3, 40.6, 43.9, 47.2, 50.5, 53.8, 57.1, 60.4, 63.7, 67. , 70.3,\n",
              "       73.6, 76.9, 80.2, 83.5, 86.8, 90.1, 93.4, 96.7])"
            ]
          },
          "metadata": {},
          "execution_count": 47
        }
      ]
    },
    {
      "cell_type": "code",
      "source": [
        "print(zero_array.shape)# formato do array, quantidade em cada dimensão\n",
        "print(zero_array.size)# quantidade de elementos - tamanho\n",
        "print(zero_array.ndim)# dimensao"
      ],
      "metadata": {
        "colab": {
          "base_uri": "https://localhost:8080/"
        },
        "id": "INT41YkD0Hrd",
        "outputId": "bc37d04f-8322-4e5c-b39a-b692e45c536c"
      },
      "execution_count": null,
      "outputs": [
        {
          "output_type": "stream",
          "name": "stdout",
          "text": [
            "(5, 3, 6)\n",
            "90\n",
            "3\n"
          ]
        }
      ]
    },
    {
      "cell_type": "markdown",
      "source": [
        "#Transformando vetor 2D em vetor 3D"
      ],
      "metadata": {
        "id": "GGR6UlTB1MO5"
      }
    },
    {
      "cell_type": "code",
      "source": [
        "a = np.array([1,2,3])\n",
        "print(a.ndim)"
      ],
      "metadata": {
        "colab": {
          "base_uri": "https://localhost:8080/"
        },
        "id": "vGyfvYwz0cFD",
        "outputId": "bbb037bd-c3ec-4dc7-b0b6-114e3fb5ec9a"
      },
      "execution_count": null,
      "outputs": [
        {
          "output_type": "stream",
          "name": "stdout",
          "text": [
            "1\n"
          ]
        }
      ]
    },
    {
      "cell_type": "code",
      "source": [
        "a2 = a[np.newaxis,:]\n",
        "print(a2.ndim)\n",
        "print(a2.shape)\n",
        "print(a2)"
      ],
      "metadata": {
        "colab": {
          "base_uri": "https://localhost:8080/"
        },
        "id": "5g3Nm0ez1RY6",
        "outputId": "951a153d-d5c1-4070-b78a-3ede0d77b44d"
      },
      "execution_count": null,
      "outputs": [
        {
          "output_type": "stream",
          "name": "stdout",
          "text": [
            "2\n",
            "(1, 3)\n",
            "[[1 2 3]]\n"
          ]
        }
      ]
    },
    {
      "cell_type": "code",
      "source": [
        "a3 = a[:,np.newaxis]\n",
        "print(a3.ndim)\n",
        "print(a3.shape)\n",
        "print(a3)"
      ],
      "metadata": {
        "colab": {
          "base_uri": "https://localhost:8080/"
        },
        "id": "C9NltMrV1wVN",
        "outputId": "6474a149-c574-4e45-c97d-0b05639ebe79"
      },
      "execution_count": null,
      "outputs": [
        {
          "output_type": "stream",
          "name": "stdout",
          "text": [
            "2\n",
            "(3, 1)\n",
            "[[1]\n",
            " [2]\n",
            " [3]]\n"
          ]
        }
      ]
    },
    {
      "cell_type": "code",
      "source": [
        "print(a3[0])\n"
      ],
      "metadata": {
        "colab": {
          "base_uri": "https://localhost:8080/"
        },
        "id": "XuKQJ9wU15ge",
        "outputId": "0d045abb-e1ad-4869-b533-da8ee2b81124"
      },
      "execution_count": null,
      "outputs": [
        {
          "output_type": "stream",
          "name": "stdout",
          "text": [
            "1\n"
          ]
        }
      ]
    },
    {
      "cell_type": "markdown",
      "source": [
        "#Concatenando Array"
      ],
      "metadata": {
        "id": "36urzhMq2I7O"
      }
    },
    {
      "cell_type": "code",
      "source": [
        "from numpy.matrixlib.defmatrix import concatenate\n",
        "a = np.array([1,2,3])\n",
        "b = np.array([4,5,6])\n",
        "\n",
        "c = concatenate((a,b))\n",
        "d = concatenate((b,a))\n",
        "print(c)\n",
        "print(d)"
      ],
      "metadata": {
        "colab": {
          "base_uri": "https://localhost:8080/"
        },
        "id": "2do9oBLi2KFg",
        "outputId": "2b105776-80ca-479f-91f8-3dcbba584357"
      },
      "execution_count": null,
      "outputs": [
        {
          "output_type": "stream",
          "name": "stdout",
          "text": [
            "[1 2 3 4 5 6]\n",
            "[4 5 6 1 2 3]\n"
          ]
        }
      ]
    },
    {
      "cell_type": "markdown",
      "source": [
        "#Consultado itens em um array \n"
      ],
      "metadata": {
        "id": "0QyNMkGE2jao"
      }
    },
    {
      "cell_type": "code",
      "source": [
        "a = np.array([[1,2,3,4],[5,6,7,8],[9,10,11,12]])\n",
        "maior_8 = a[a>8]\n",
        "par = a[a%2==0]\n",
        "print(a)\n",
        "print(\"-\"*20)\n",
        "print(maior_8)\n",
        "print(\"-\"*20)\n",
        "print(par)"
      ],
      "metadata": {
        "colab": {
          "base_uri": "https://localhost:8080/"
        },
        "id": "pVGSHSWE2lXR",
        "outputId": "fc7c69a3-163b-4ab3-f8ff-849dc70db381"
      },
      "execution_count": null,
      "outputs": [
        {
          "output_type": "stream",
          "name": "stdout",
          "text": [
            "[[ 1  2  3  4]\n",
            " [ 5  6  7  8]\n",
            " [ 9 10 11 12]]\n",
            "--------------------\n",
            "[ 9 10 11 12]\n",
            "--------------------\n",
            "[ 2  4  6  8 10 12]\n"
          ]
        }
      ]
    },
    {
      "cell_type": "markdown",
      "source": [
        "#operações com arrays"
      ],
      "metadata": {
        "id": "xROjlbE13avQ"
      }
    },
    {
      "cell_type": "code",
      "source": [
        "a = np.array([1,2,3])\n",
        "print(a.sum())\n",
        "print(a.max())\n",
        "print(a.mean())"
      ],
      "metadata": {
        "colab": {
          "base_uri": "https://localhost:8080/"
        },
        "id": "mfp7ecJ92rdT",
        "outputId": "fbd8c10f-90de-4cd0-a1ed-c980612db46f"
      },
      "execution_count": null,
      "outputs": [
        {
          "output_type": "stream",
          "name": "stdout",
          "text": [
            "6\n",
            "3\n",
            "2.0\n"
          ]
        }
      ]
    },
    {
      "cell_type": "markdown",
      "source": [
        "#Gerando amostras aleatórias"
      ],
      "metadata": {
        "id": "jmBfURSo3tAJ"
      }
    },
    {
      "cell_type": "code",
      "source": [
        "from numpy.random import default_rng\n",
        "\n",
        "rng = default_rng()\n",
        "aleatorio = rng.integers(10, size= (2,4))\n",
        "print(aleatorio)"
      ],
      "metadata": {
        "colab": {
          "base_uri": "https://localhost:8080/"
        },
        "id": "1wUKJeXC3sdE",
        "outputId": "2ffadace-cea2-4a19-8246-f2091a0ee184"
      },
      "execution_count": null,
      "outputs": [
        {
          "output_type": "stream",
          "name": "stdout",
          "text": [
            "[[7 1 1 2]\n",
            " [2 9 3 9]]\n"
          ]
        }
      ]
    }
  ]
}